{
 "cells": [
  {
   "cell_type": "code",
   "execution_count": 15,
   "id": "03803c51-823b-4ba7-9e66-5dde34b00085",
   "metadata": {},
   "outputs": [],
   "source": [
    "import gymnasium as gym\n",
    "import torch\n",
    "import torch.nn as nn\n"
   ]
  },
  {
   "cell_type": "code",
   "execution_count": 4,
   "id": "76320703-f31a-41d4-9c42-fdeeecbc418b",
   "metadata": {},
   "outputs": [],
   "source": [
    "env = gym.make(\"ALE/Pacman-v5\")"
   ]
  },
  {
   "cell_type": "code",
   "execution_count": 11,
   "id": "ccfdc6fc-5c37-4dce-ac91-4bff1d2e7a56",
   "metadata": {},
   "outputs": [
    {
     "data": {
      "text/plain": [
       "Discrete(5)"
      ]
     },
     "execution_count": 11,
     "metadata": {},
     "output_type": "execute_result"
    }
   ],
   "source": [
    "env.action_space"
   ]
  },
  {
   "cell_type": "code",
   "execution_count": 6,
   "id": "e87e70bb-b26c-428d-a1f0-a37d698d9b5d",
   "metadata": {},
   "outputs": [
    {
     "data": {
      "text/plain": [
       "Box(0, 255, (250, 160, 3), uint8)"
      ]
     },
     "execution_count": 6,
     "metadata": {},
     "output_type": "execute_result"
    }
   ],
   "source": [
    "env.observation_space"
   ]
  },
  {
   "cell_type": "code",
   "execution_count": 14,
   "id": "3f1bef14-4393-44e6-a273-591f679b2fa1",
   "metadata": {},
   "outputs": [
    {
     "data": {
      "text/plain": [
       "(250, 160, 3)"
      ]
     },
     "execution_count": 14,
     "metadata": {},
     "output_type": "execute_result"
    }
   ],
   "source": [
    "env.reset()[0].shape"
   ]
  },
  {
   "cell_type": "code",
   "execution_count": null,
   "id": "d0f937db-8add-4651-9cea-fe571d22d8fd",
   "metadata": {},
   "outputs": [],
   "source": [
    "class PPOAgent:\n",
    "    \"\"\"An agent that uses the PPO algorithm to optimize its policy\"\"\"\n",
    "\n",
    "    def __init__(self, pi_curr, pi_old, ):\n",
    "        "
   ]
  },
  {
   "cell_type": "code",
   "execution_count": null,
   "id": "867e0a69-fbf1-434d-a251-a3e6a337d82d",
   "metadata": {},
   "outputs": [],
   "source": [
    "class PolicyNetwork"
   ]
  }
 ],
 "metadata": {
  "kernelspec": {
   "display_name": "Python 3 (ipykernel)",
   "language": "python",
   "name": "python3"
  },
  "language_info": {
   "codemirror_mode": {
    "name": "ipython",
    "version": 3
   },
   "file_extension": ".py",
   "mimetype": "text/x-python",
   "name": "python",
   "nbconvert_exporter": "python",
   "pygments_lexer": "ipython3",
   "version": "3.11.9"
  }
 },
 "nbformat": 4,
 "nbformat_minor": 5
}
