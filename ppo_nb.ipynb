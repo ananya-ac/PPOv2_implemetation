{
 "cells": [
  {
   "cell_type": "code",
   "execution_count": 18,
   "id": "03803c51-823b-4ba7-9e66-5dde34b00085",
   "metadata": {},
   "outputs": [],
   "source": [
    "import gymnasium as gym\n",
    "import torch\n",
    "import torch.nn as nn\n",
    "import torch.nn.functional as F\n",
    "import numpy as np\n",
    "from stable_baselines3.common.atari_wrappers import (  \n",
    "    ClipRewardEnv,\n",
    "    EpisodicLifeEnv,\n",
    "    FireResetEnv,\n",
    "    MaxAndSkipEnv,\n",
    "    NoopResetEnv,\n",
    ")"
   ]
  },
  {
   "cell_type": "code",
   "execution_count": 84,
   "id": "4a8ecdca",
   "metadata": {},
   "outputs": [],
   "source": [
    "#CONSTANTS\n",
    "total_timesteps = 1000000\n",
    "num_envs = 4\n",
    "num_steps = 128\n",
    "num_epochs = 4\n",
    "batch_size = num_envs * num_steps\n",
    "num_updates = total_timesteps // batch_size\n"
   ]
  },
  {
   "cell_type": "code",
   "execution_count": 20,
   "id": "77e9cf38",
   "metadata": {},
   "outputs": [],
   "source": [
    "def make_env(gym_id, seed, idx, capture_video, run_name):\n",
    "    def env_create():\n",
    "        env = gym.make(gym_id)\n",
    "        env = gym.wrappers.RecordEpisodeStatistics(env)\n",
    "        if capture_video:\n",
    "            if idx == 0:\n",
    "                env = gym.wrappers.RecordVideo(env, f\"videos/{run_name}\")\n",
    "        env = NoopResetEnv(env, noop_max=30)\n",
    "        env = MaxAndSkipEnv(env, skip=4)\n",
    "        env = EpisodicLifeEnv(env)\n",
    "        if \"FIRE\" in env.unwrapped.get_action_meanings():\n",
    "            env = FireResetEnv(env)\n",
    "        env = ClipRewardEnv(env)\n",
    "        env = gym.wrappers.ResizeObservation(env, (84, 84))\n",
    "        env = gym.wrappers.GrayScaleObservation(env)\n",
    "        env = gym.wrappers.FrameStack(env, 4)\n",
    "        env.unwrapped.seed(seed)\n",
    "        env.action_space.seed(seed)\n",
    "        env.observation_space.seed(seed)\n",
    "        return env\n",
    "\n",
    "    return env_create"
   ]
  },
  {
   "cell_type": "code",
   "execution_count": 100,
   "id": "63f2dff5",
   "metadata": {},
   "outputs": [],
   "source": [
    "def layer_initilization(layer, std=np.sqrt(2), bias_const=0.0):\n",
    "    nn.init.orthogonal_(layer.weight, std)\n",
    "    nn.init.constant_(layer.bias.data, bias_const)\n",
    "    return layer\n",
    "\n",
    "class PPOAgent(nn.Module):\n",
    "    \n",
    "    def __init__(self, n_actions, n_frames = 4 ):\n",
    "        super(PPOAgent, self).__init__()\n",
    "        \n",
    "        self.conv = nn.Sequential(\n",
    "            layer_initilization(nn.Conv2d(n_frames, 32, kernel_size=8, stride=4)),\n",
    "            nn.ReLU(),\n",
    "            layer_initilization(nn.Conv2d(32, 64, kernel_size=4, stride=2)),\n",
    "            nn.ReLU(),\n",
    "            layer_initilization(nn.Conv2d(64, 64, kernel_size=3, stride=1)),\n",
    "            nn.ReLU(),\n",
    "            nn.Flatten(),\n",
    "            nn.Linear(3136, 512)\n",
    "        )\n",
    "        \n",
    "        self.actor = nn.Sequential(\n",
    "            layer_initilization(nn.Linear(512, n_actions))\n",
    "        )\n",
    "        \n",
    "        self.critic = nn.Sequential(\n",
    "            layer_initilization(nn.Linear(512, 1))\n",
    "        )\n",
    "        \n",
    "        \n",
    "    def get_value(self, x):\n",
    "        return self.critic(self.conv(x))\n",
    "    \n",
    "    def get_action(self, x, action = None):\n",
    "            logits = self.actor(self.conv(x))\n",
    "            dist = torch.distributions.Categorical(logits=logits)\n",
    "            if action == None:\n",
    "                action = dist.sample()\n",
    "            value = self.critic(self.conv(x))\n",
    "            return action, dist.log_prob(action), dist.entropy(), value\n",
    "            "
   ]
  },
  {
   "cell_type": "code",
   "execution_count": 1,
   "id": "78a9ffc2",
   "metadata": {},
   "outputs": [],
   "source": [
    "def rollout(envs, agent, num_steps, gamma = 0.99, gae_lambda = 0.95):\n",
    "    \n",
    "    \n",
    "    observations = torch.zeros((num_steps , num_envs) + envs.single_observation_space.shape, dtype=torch.float32)\n",
    "    actions = torch.zeros((num_steps, num_envs) + envs.single_action_space.shape, dtype=torch.int32)\n",
    "    rewards = torch.zeros((num_steps, num_envs), dtype=torch.float32)\n",
    "    values = torch.zeros((num_steps, num_envs), dtype=torch.float32)\n",
    "    logprobs = torch.zeros((num_steps, num_envs), dtype=torch.float32)\n",
    "    dones = torch.zeros((num_steps, num_envs), dtype=torch.float32)\n",
    "    #truncs = torch.zeros((num_steps, num_envs), dtype=torch.float32)\n",
    "\n",
    "    next_obs = torch.Tensor(envs.reset()[0])\n",
    "    # next_done = torch.zeros(num_envs)\n",
    "    # next_trunc = torch.zeros(num_envs)\n",
    "    \n",
    "    for step in range(num_steps):\n",
    "        observations[step] = next_obs\n",
    "        dones[step] = next_done\n",
    "        #truncs[step] = next_trunc\n",
    "        \n",
    "        with torch.no_grad():\n",
    "            action, logprob, _, value = agent.get_action(next_obs)\n",
    "            \n",
    "        actions[step] = action\n",
    "        values[step] = value.view(-1)\n",
    "        logprobs[step] = logprob\n",
    "        \n",
    "        next_obs, reward, next_done, _, _ = envs.step(action.cpu().numpy())\n",
    "        next_obs = torch.Tensor(next_obs)\n",
    "        rewards[step] = torch.tensor(reward)\n",
    "        \n",
    "    with torch.no_grad():\n",
    "            next_value = agent.get_value(next_obs).reshape(1, -1)\n",
    "            advantages = torch.zeros_like(rewards)\n",
    "            lastgaelam = 0\n",
    "            for t in reversed(range(num_steps)):\n",
    "                if t == num_steps - 1:\n",
    "                    nextnonterminal = 1.0 - next_done\n",
    "                    nextvalues = next_value\n",
    "                else:\n",
    "                    nextnonterminal = 1.0 - dones[t + 1]\n",
    "                    nextvalues = values[t + 1]\n",
    "                delta = rewards[t] + gamma * nextvalues * nextnonterminal - values[t]\n",
    "                advantages[t] = lastgaelam = delta + gamma * gae_lambda * nextnonterminal * lastgaelam\n",
    "            returns = advantages + values\n",
    "    \n",
    "    return observations, actions, returns, values, advantages, logprobs, dones\n",
    "        \n",
    "    "
   ]
  },
  {
   "cell_type": "code",
   "execution_count": 2,
   "id": "00d1ae6c",
   "metadata": {},
   "outputs": [],
   "source": [
    "def update_agent(agent, optimizer, observations, actions, returns, values, advantages, logprobs, clip_param = 0.2, vf_coef = 0.5, ent_coef = 0.01):\n",
    "    \n",
    "    observations = observations.view(-1, *observations.shape[2:])\n",
    "    actions = actions.view(-1, *actions.shape[2:])\n",
    "    returns = returns.view(-1)\n",
    "    values = values.view(-1)\n",
    "    advantages = advantages.view(-1)\n",
    "    logprobs = logprobs.view(-1)\n",
    "    \n",
    "    for _ in range(num_epochs):\n",
    "        for idx in range(0, observations.size(0), batch_size):\n",
    "            batch_indices = slice(idx, idx + batch_size)\n",
    "            obs_batch = observations[batch_indices]\n",
    "            act_batch = actions[batch_indices]\n",
    "            ret_batch = returns[batch_indices]\n",
    "            adv_batch = advantages[batch_indices]\n",
    "            norm_adv_batch = (adv_batch - adv_batch.mean()) / (adv_batch.std() + 1e-8)\n",
    "            logprob_batch = logprobs[batch_indices]\n",
    "            \n",
    "            _, logprob, entropy, value = agent.get_action(obs_batch, act_batch)\n",
    "            ratio = (logprob - logprob_batch).exp()\n",
    "            policy_loss = -torch.min(ratio * norm_adv_batch, torch.clamp(ratio, 1.0 - clip_param, 1.0 + clip_param) * norm_adv_batch).mean()\n",
    "            value_loss = 0.5 * (value - ret_batch).pow(2).mean()\n",
    "            entropy_loss = entropy.mean()\n",
    "            loss = policy_loss + value_loss * vf_coef - entropy_loss * ent_coef\n",
    "            optimizer.zero_grad()\n",
    "            loss.backward()\n",
    "            optimizer.step()\n",
    "            \n",
    "    return loss.item(), policy_loss.item(), value_loss.item(), entropy_loss.item()\n",
    "    "
   ]
  },
  {
   "cell_type": "code",
   "execution_count": 123,
   "id": "0438b713",
   "metadata": {},
   "outputs": [
    {
     "name": "stderr",
     "output_type": "stream",
     "text": [
      "/home/ananya-acharya/miniconda3/envs/rl/lib/python3.11/site-packages/torch/autograd/graph.py:768: UserWarning: CUDA initialization: CUDA unknown error - this may be due to an incorrectly set up environment, e.g. changing env variable CUDA_VISIBLE_DEVICES after program start. Setting the available devices to be zero. (Triggered internally at ../c10/cuda/CUDAFunctions.cpp:108.)\n",
      "  return Variable._execution_engine.run_backward(  # Calls into the C++ engine to run the backward pass\n"
     ]
    },
    {
     "name": "stdout",
     "output_type": "stream",
     "text": [
      "Update: 0, Loss: 40561.71484375, Policy Loss: -2.3283064365386963e-08, Value Loss: 81123.4296875, Entropy Loss: 3.788868672996958e-32\n",
      "Update: 1, Loss: 13433.470703125, Policy Loss: -7.171183824539185e-08, Value Loss: 26866.94140625, Entropy Loss: 7.013596585026892e-18\n",
      "Update: 2, Loss: 6992.53173828125, Policy Loss: 2.337619662284851e-07, Value Loss: 13985.0634765625, Entropy Loss: 1.9777660276642725e-14\n",
      "Update: 3, Loss: 78.73841094970703, Policy Loss: 1.3969838619232178e-08, Value Loss: 157.47682189941406, Entropy Loss: 8.673495949240717e-11\n",
      "Update: 4, Loss: 647.7161865234375, Policy Loss: 7.348135113716125e-07, Value Loss: 1295.432373046875, Entropy Loss: 9.606543608242646e-05\n",
      "Update: 5, Loss: 135.92857360839844, Policy Loss: 0.1246541365981102, Value Loss: 271.6178894042969, Entropy Loss: 0.5021007061004639\n",
      "Update: 6, Loss: 124.23230743408203, Policy Loss: 0.06882800906896591, Value Loss: 248.32730102539062, Entropy Loss: 0.01705171912908554\n",
      "Update: 7, Loss: 55.63188171386719, Policy Loss: 0.00019142567180097103, Value Loss: 111.26342010498047, Entropy Loss: 0.0018463623709976673\n",
      "Update: 8, Loss: 30.101377487182617, Policy Loss: -3.984547220170498e-05, Value Loss: 60.202850341796875, Entropy Loss: 0.0006879763677716255\n",
      "Update: 9, Loss: 15.537660598754883, Policy Loss: 2.62334942817688e-05, Value Loss: 31.075273513793945, Entropy Loss: 0.00025010263198055327\n"
     ]
    },
    {
     "ename": "KeyboardInterrupt",
     "evalue": "",
     "output_type": "error",
     "traceback": [
      "\u001b[0;31m---------------------------------------------------------------------------\u001b[0m",
      "\u001b[0;31mKeyboardInterrupt\u001b[0m                         Traceback (most recent call last)",
      "Cell \u001b[0;32mIn[123], line 6\u001b[0m\n\u001b[1;32m      4\u001b[0m optimizer \u001b[38;5;241m=\u001b[39m torch\u001b[38;5;241m.\u001b[39moptim\u001b[38;5;241m.\u001b[39mAdam(agent\u001b[38;5;241m.\u001b[39mparameters(), lr\u001b[38;5;241m=\u001b[39m\u001b[38;5;241m2.5e-4\u001b[39m, eps\u001b[38;5;241m=\u001b[39m\u001b[38;5;241m1e-5\u001b[39m)\n\u001b[1;32m      5\u001b[0m \u001b[38;5;28;01mfor\u001b[39;00m update \u001b[38;5;129;01min\u001b[39;00m \u001b[38;5;28mrange\u001b[39m(num_updates):\n\u001b[0;32m----> 6\u001b[0m     observations, actions, returns, values, advantages, logprobs, dones, truncs \u001b[38;5;241m=\u001b[39m \u001b[43mrollout\u001b[49m\u001b[43m(\u001b[49m\u001b[43menvs\u001b[49m\u001b[43m,\u001b[49m\u001b[43m \u001b[49m\u001b[43magent\u001b[49m\u001b[43m,\u001b[49m\u001b[43m \u001b[49m\u001b[43mnum_steps\u001b[49m\u001b[43m)\u001b[49m\n\u001b[1;32m      7\u001b[0m     loss, policy_loss, value_loss, entropy_loss \u001b[38;5;241m=\u001b[39m update_agent(agent, optimizer, observations, actions, returns, values, advantages, logprobs, dones, truncs)\n\u001b[1;32m      8\u001b[0m     \u001b[38;5;28mprint\u001b[39m(\u001b[38;5;124mf\u001b[39m\u001b[38;5;124m\"\u001b[39m\u001b[38;5;124mUpdate: \u001b[39m\u001b[38;5;132;01m{\u001b[39;00mupdate\u001b[38;5;132;01m}\u001b[39;00m\u001b[38;5;124m, Loss: \u001b[39m\u001b[38;5;132;01m{\u001b[39;00mloss\u001b[38;5;132;01m}\u001b[39;00m\u001b[38;5;124m, Policy Loss: \u001b[39m\u001b[38;5;132;01m{\u001b[39;00mpolicy_loss\u001b[38;5;132;01m}\u001b[39;00m\u001b[38;5;124m, Value Loss: \u001b[39m\u001b[38;5;132;01m{\u001b[39;00mvalue_loss\u001b[38;5;132;01m}\u001b[39;00m\u001b[38;5;124m, Entropy Loss: \u001b[39m\u001b[38;5;132;01m{\u001b[39;00mentropy_loss\u001b[38;5;132;01m}\u001b[39;00m\u001b[38;5;124m\"\u001b[39m)\n",
      "Cell \u001b[0;32mIn[114], line 22\u001b[0m, in \u001b[0;36mrollout\u001b[0;34m(envs, agent, num_steps, gamma, gae_lambda)\u001b[0m\n\u001b[1;32m     18\u001b[0m \u001b[38;5;66;03m#dones[step] = next_done\u001b[39;00m\n\u001b[1;32m     19\u001b[0m \u001b[38;5;66;03m#truncs[step] = next_trunc\u001b[39;00m\n\u001b[1;32m     21\u001b[0m \u001b[38;5;28;01mwith\u001b[39;00m torch\u001b[38;5;241m.\u001b[39mno_grad():\n\u001b[0;32m---> 22\u001b[0m     action, logprob, _, value \u001b[38;5;241m=\u001b[39m \u001b[43magent\u001b[49m\u001b[38;5;241;43m.\u001b[39;49m\u001b[43mget_action\u001b[49m\u001b[43m(\u001b[49m\u001b[43mnext_obs\u001b[49m\u001b[43m)\u001b[49m\n\u001b[1;32m     24\u001b[0m actions[step] \u001b[38;5;241m=\u001b[39m action\n\u001b[1;32m     25\u001b[0m values[step] \u001b[38;5;241m=\u001b[39m value\u001b[38;5;241m.\u001b[39mview(\u001b[38;5;241m-\u001b[39m\u001b[38;5;241m1\u001b[39m)\n",
      "Cell \u001b[0;32mIn[100], line 35\u001b[0m, in \u001b[0;36mPPOAgent.get_action\u001b[0;34m(self, x, action)\u001b[0m\n\u001b[1;32m     34\u001b[0m \u001b[38;5;28;01mdef\u001b[39;00m \u001b[38;5;21mget_action\u001b[39m(\u001b[38;5;28mself\u001b[39m, x, action \u001b[38;5;241m=\u001b[39m \u001b[38;5;28;01mNone\u001b[39;00m):\n\u001b[0;32m---> 35\u001b[0m         logits \u001b[38;5;241m=\u001b[39m \u001b[38;5;28mself\u001b[39m\u001b[38;5;241m.\u001b[39mactor(\u001b[38;5;28;43mself\u001b[39;49m\u001b[38;5;241;43m.\u001b[39;49m\u001b[43mconv\u001b[49m\u001b[43m(\u001b[49m\u001b[43mx\u001b[49m\u001b[43m)\u001b[49m)\n\u001b[1;32m     36\u001b[0m         dist \u001b[38;5;241m=\u001b[39m torch\u001b[38;5;241m.\u001b[39mdistributions\u001b[38;5;241m.\u001b[39mCategorical(logits\u001b[38;5;241m=\u001b[39mlogits)\n\u001b[1;32m     37\u001b[0m         \u001b[38;5;28;01mif\u001b[39;00m action \u001b[38;5;241m==\u001b[39m \u001b[38;5;28;01mNone\u001b[39;00m:\n",
      "File \u001b[0;32m~/miniconda3/envs/rl/lib/python3.11/site-packages/torch/nn/modules/module.py:1553\u001b[0m, in \u001b[0;36mModule._wrapped_call_impl\u001b[0;34m(self, *args, **kwargs)\u001b[0m\n\u001b[1;32m   1551\u001b[0m     \u001b[38;5;28;01mreturn\u001b[39;00m \u001b[38;5;28mself\u001b[39m\u001b[38;5;241m.\u001b[39m_compiled_call_impl(\u001b[38;5;241m*\u001b[39margs, \u001b[38;5;241m*\u001b[39m\u001b[38;5;241m*\u001b[39mkwargs)  \u001b[38;5;66;03m# type: ignore[misc]\u001b[39;00m\n\u001b[1;32m   1552\u001b[0m \u001b[38;5;28;01melse\u001b[39;00m:\n\u001b[0;32m-> 1553\u001b[0m     \u001b[38;5;28;01mreturn\u001b[39;00m \u001b[38;5;28;43mself\u001b[39;49m\u001b[38;5;241;43m.\u001b[39;49m\u001b[43m_call_impl\u001b[49m\u001b[43m(\u001b[49m\u001b[38;5;241;43m*\u001b[39;49m\u001b[43margs\u001b[49m\u001b[43m,\u001b[49m\u001b[43m \u001b[49m\u001b[38;5;241;43m*\u001b[39;49m\u001b[38;5;241;43m*\u001b[39;49m\u001b[43mkwargs\u001b[49m\u001b[43m)\u001b[49m\n",
      "File \u001b[0;32m~/miniconda3/envs/rl/lib/python3.11/site-packages/torch/nn/modules/module.py:1562\u001b[0m, in \u001b[0;36mModule._call_impl\u001b[0;34m(self, *args, **kwargs)\u001b[0m\n\u001b[1;32m   1557\u001b[0m \u001b[38;5;66;03m# If we don't have any hooks, we want to skip the rest of the logic in\u001b[39;00m\n\u001b[1;32m   1558\u001b[0m \u001b[38;5;66;03m# this function, and just call forward.\u001b[39;00m\n\u001b[1;32m   1559\u001b[0m \u001b[38;5;28;01mif\u001b[39;00m \u001b[38;5;129;01mnot\u001b[39;00m (\u001b[38;5;28mself\u001b[39m\u001b[38;5;241m.\u001b[39m_backward_hooks \u001b[38;5;129;01mor\u001b[39;00m \u001b[38;5;28mself\u001b[39m\u001b[38;5;241m.\u001b[39m_backward_pre_hooks \u001b[38;5;129;01mor\u001b[39;00m \u001b[38;5;28mself\u001b[39m\u001b[38;5;241m.\u001b[39m_forward_hooks \u001b[38;5;129;01mor\u001b[39;00m \u001b[38;5;28mself\u001b[39m\u001b[38;5;241m.\u001b[39m_forward_pre_hooks\n\u001b[1;32m   1560\u001b[0m         \u001b[38;5;129;01mor\u001b[39;00m _global_backward_pre_hooks \u001b[38;5;129;01mor\u001b[39;00m _global_backward_hooks\n\u001b[1;32m   1561\u001b[0m         \u001b[38;5;129;01mor\u001b[39;00m _global_forward_hooks \u001b[38;5;129;01mor\u001b[39;00m _global_forward_pre_hooks):\n\u001b[0;32m-> 1562\u001b[0m     \u001b[38;5;28;01mreturn\u001b[39;00m \u001b[43mforward_call\u001b[49m\u001b[43m(\u001b[49m\u001b[38;5;241;43m*\u001b[39;49m\u001b[43margs\u001b[49m\u001b[43m,\u001b[49m\u001b[43m \u001b[49m\u001b[38;5;241;43m*\u001b[39;49m\u001b[38;5;241;43m*\u001b[39;49m\u001b[43mkwargs\u001b[49m\u001b[43m)\u001b[49m\n\u001b[1;32m   1564\u001b[0m \u001b[38;5;28;01mtry\u001b[39;00m:\n\u001b[1;32m   1565\u001b[0m     result \u001b[38;5;241m=\u001b[39m \u001b[38;5;28;01mNone\u001b[39;00m\n",
      "File \u001b[0;32m~/miniconda3/envs/rl/lib/python3.11/site-packages/torch/nn/modules/container.py:219\u001b[0m, in \u001b[0;36mSequential.forward\u001b[0;34m(self, input)\u001b[0m\n\u001b[1;32m    217\u001b[0m \u001b[38;5;28;01mdef\u001b[39;00m \u001b[38;5;21mforward\u001b[39m(\u001b[38;5;28mself\u001b[39m, \u001b[38;5;28minput\u001b[39m):\n\u001b[1;32m    218\u001b[0m     \u001b[38;5;28;01mfor\u001b[39;00m module \u001b[38;5;129;01min\u001b[39;00m \u001b[38;5;28mself\u001b[39m:\n\u001b[0;32m--> 219\u001b[0m         \u001b[38;5;28minput\u001b[39m \u001b[38;5;241m=\u001b[39m \u001b[43mmodule\u001b[49m\u001b[43m(\u001b[49m\u001b[38;5;28;43minput\u001b[39;49m\u001b[43m)\u001b[49m\n\u001b[1;32m    220\u001b[0m     \u001b[38;5;28;01mreturn\u001b[39;00m \u001b[38;5;28minput\u001b[39m\n",
      "File \u001b[0;32m~/miniconda3/envs/rl/lib/python3.11/site-packages/torch/nn/modules/module.py:1553\u001b[0m, in \u001b[0;36mModule._wrapped_call_impl\u001b[0;34m(self, *args, **kwargs)\u001b[0m\n\u001b[1;32m   1551\u001b[0m     \u001b[38;5;28;01mreturn\u001b[39;00m \u001b[38;5;28mself\u001b[39m\u001b[38;5;241m.\u001b[39m_compiled_call_impl(\u001b[38;5;241m*\u001b[39margs, \u001b[38;5;241m*\u001b[39m\u001b[38;5;241m*\u001b[39mkwargs)  \u001b[38;5;66;03m# type: ignore[misc]\u001b[39;00m\n\u001b[1;32m   1552\u001b[0m \u001b[38;5;28;01melse\u001b[39;00m:\n\u001b[0;32m-> 1553\u001b[0m     \u001b[38;5;28;01mreturn\u001b[39;00m \u001b[38;5;28;43mself\u001b[39;49m\u001b[38;5;241;43m.\u001b[39;49m\u001b[43m_call_impl\u001b[49m\u001b[43m(\u001b[49m\u001b[38;5;241;43m*\u001b[39;49m\u001b[43margs\u001b[49m\u001b[43m,\u001b[49m\u001b[43m \u001b[49m\u001b[38;5;241;43m*\u001b[39;49m\u001b[38;5;241;43m*\u001b[39;49m\u001b[43mkwargs\u001b[49m\u001b[43m)\u001b[49m\n",
      "File \u001b[0;32m~/miniconda3/envs/rl/lib/python3.11/site-packages/torch/nn/modules/module.py:1562\u001b[0m, in \u001b[0;36mModule._call_impl\u001b[0;34m(self, *args, **kwargs)\u001b[0m\n\u001b[1;32m   1557\u001b[0m \u001b[38;5;66;03m# If we don't have any hooks, we want to skip the rest of the logic in\u001b[39;00m\n\u001b[1;32m   1558\u001b[0m \u001b[38;5;66;03m# this function, and just call forward.\u001b[39;00m\n\u001b[1;32m   1559\u001b[0m \u001b[38;5;28;01mif\u001b[39;00m \u001b[38;5;129;01mnot\u001b[39;00m (\u001b[38;5;28mself\u001b[39m\u001b[38;5;241m.\u001b[39m_backward_hooks \u001b[38;5;129;01mor\u001b[39;00m \u001b[38;5;28mself\u001b[39m\u001b[38;5;241m.\u001b[39m_backward_pre_hooks \u001b[38;5;129;01mor\u001b[39;00m \u001b[38;5;28mself\u001b[39m\u001b[38;5;241m.\u001b[39m_forward_hooks \u001b[38;5;129;01mor\u001b[39;00m \u001b[38;5;28mself\u001b[39m\u001b[38;5;241m.\u001b[39m_forward_pre_hooks\n\u001b[1;32m   1560\u001b[0m         \u001b[38;5;129;01mor\u001b[39;00m _global_backward_pre_hooks \u001b[38;5;129;01mor\u001b[39;00m _global_backward_hooks\n\u001b[1;32m   1561\u001b[0m         \u001b[38;5;129;01mor\u001b[39;00m _global_forward_hooks \u001b[38;5;129;01mor\u001b[39;00m _global_forward_pre_hooks):\n\u001b[0;32m-> 1562\u001b[0m     \u001b[38;5;28;01mreturn\u001b[39;00m \u001b[43mforward_call\u001b[49m\u001b[43m(\u001b[49m\u001b[38;5;241;43m*\u001b[39;49m\u001b[43margs\u001b[49m\u001b[43m,\u001b[49m\u001b[43m \u001b[49m\u001b[38;5;241;43m*\u001b[39;49m\u001b[38;5;241;43m*\u001b[39;49m\u001b[43mkwargs\u001b[49m\u001b[43m)\u001b[49m\n\u001b[1;32m   1564\u001b[0m \u001b[38;5;28;01mtry\u001b[39;00m:\n\u001b[1;32m   1565\u001b[0m     result \u001b[38;5;241m=\u001b[39m \u001b[38;5;28;01mNone\u001b[39;00m\n",
      "File \u001b[0;32m~/miniconda3/envs/rl/lib/python3.11/site-packages/torch/nn/modules/activation.py:104\u001b[0m, in \u001b[0;36mReLU.forward\u001b[0;34m(self, input)\u001b[0m\n\u001b[1;32m    103\u001b[0m \u001b[38;5;28;01mdef\u001b[39;00m \u001b[38;5;21mforward\u001b[39m(\u001b[38;5;28mself\u001b[39m, \u001b[38;5;28minput\u001b[39m: Tensor) \u001b[38;5;241m-\u001b[39m\u001b[38;5;241m>\u001b[39m Tensor:\n\u001b[0;32m--> 104\u001b[0m     \u001b[38;5;28;01mreturn\u001b[39;00m \u001b[43mF\u001b[49m\u001b[38;5;241;43m.\u001b[39;49m\u001b[43mrelu\u001b[49m\u001b[43m(\u001b[49m\u001b[38;5;28;43minput\u001b[39;49m\u001b[43m,\u001b[49m\u001b[43m \u001b[49m\u001b[43minplace\u001b[49m\u001b[38;5;241;43m=\u001b[39;49m\u001b[38;5;28;43mself\u001b[39;49m\u001b[38;5;241;43m.\u001b[39;49m\u001b[43minplace\u001b[49m\u001b[43m)\u001b[49m\n",
      "File \u001b[0;32m~/miniconda3/envs/rl/lib/python3.11/site-packages/torch/nn/functional.py:1500\u001b[0m, in \u001b[0;36mrelu\u001b[0;34m(input, inplace)\u001b[0m\n\u001b[1;32m   1498\u001b[0m     result \u001b[38;5;241m=\u001b[39m torch\u001b[38;5;241m.\u001b[39mrelu_(\u001b[38;5;28minput\u001b[39m)\n\u001b[1;32m   1499\u001b[0m \u001b[38;5;28;01melse\u001b[39;00m:\n\u001b[0;32m-> 1500\u001b[0m     result \u001b[38;5;241m=\u001b[39m \u001b[43mtorch\u001b[49m\u001b[38;5;241;43m.\u001b[39;49m\u001b[43mrelu\u001b[49m\u001b[43m(\u001b[49m\u001b[38;5;28;43minput\u001b[39;49m\u001b[43m)\u001b[49m\n\u001b[1;32m   1501\u001b[0m \u001b[38;5;28;01mreturn\u001b[39;00m result\n",
      "\u001b[0;31mKeyboardInterrupt\u001b[0m: "
     ]
    }
   ],
   "source": [
    "#FINAL TRAINING LOOP\n",
    "envs = gym.vector.SyncVectorEnv([make_env(\"ALE/Pong-v5\", 42, i, False, \"Pong\") for i in range(num_envs)])\n",
    "agent = PPOAgent(envs.single_action_space.n)\n",
    "optimizer = torch.optim.Adam(agent.parameters(), lr=2.5e-4, eps=1e-5)\n",
    "for update in range(num_updates):\n",
    "    observations, actions, returns, values, advantages, logprobs, dones = rollout(envs, agent, num_steps)\n",
    "    loss, policy_loss, value_loss, entropy_loss = update_agent(agent, optimizer, observations, actions, returns, values, advantages, logprobs)\n",
    "    print(f\"Update: {update}, Loss: {loss}, Policy Loss: {policy_loss}, Value Loss: {value_loss}, Entropy Loss: {entropy_loss}\")"
   ]
  },
  {
   "cell_type": "code",
   "execution_count": 121,
   "id": "02e2a4d8",
   "metadata": {},
   "outputs": [
    {
     "data": {
      "text/plain": [
       "0"
      ]
     },
     "execution_count": 121,
     "metadata": {},
     "output_type": "execute_result"
    }
   ],
   "source": [
    "update"
   ]
  },
  {
   "cell_type": "code",
   "execution_count": null,
   "id": "a5a58ce2",
   "metadata": {},
   "outputs": [],
   "source": []
  }
 ],
 "metadata": {
  "kernelspec": {
   "display_name": "Python 3 (ipykernel)",
   "language": "python",
   "name": "python3"
  },
  "language_info": {
   "codemirror_mode": {
    "name": "ipython",
    "version": 3
   },
   "file_extension": ".py",
   "mimetype": "text/x-python",
   "name": "python",
   "nbconvert_exporter": "python",
   "pygments_lexer": "ipython3",
   "version": "3.11.9"
  }
 },
 "nbformat": 4,
 "nbformat_minor": 5
}
